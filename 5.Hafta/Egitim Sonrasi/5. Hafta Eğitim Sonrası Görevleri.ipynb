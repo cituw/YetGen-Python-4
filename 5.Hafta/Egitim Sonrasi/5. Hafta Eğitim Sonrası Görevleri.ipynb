{
 "cells": [
  {
   "cell_type": "markdown",
   "metadata": {
    "id": "Rm1DKmXZM-Ja"
   },
   "source": [
    "# Problem 1\n",
    "\n",
    "Fizikte, bir nesnenin sabit ivmeyle hareket ederken son hızını \n",
    "(veya hızını) bulmak için aşağıdaki denklem kullanılabilir:\n",
    "```\n",
    "vf = vi + at\n",
    "burada:\n",
    "vf= son hız\n",
    "vi= ilk hız\n",
    "a= hızlanma\n",
    "t= zaman\n",
    "```\n",
    "İlk hız, ivme ve zaman verildiğinde, son hızı döndürecek bir fonksiyon yazın."
   ]
  },
  {
   "cell_type": "code",
   "execution_count": 2,
   "metadata": {
    "id": "vWrjJiV0M-Jk"
   },
   "outputs": [
    {
     "name": "stdout",
     "output_type": "stream",
     "text": [
      "Son hız = 7.0\n"
     ]
    }
   ],
   "source": [
    "vi = float(input(\"İlk hızı giriniz:\"))\n",
    "a = float (input(\"İvme giriniz: \"))\n",
    "t = float(input(\"Zaman giriniz : \"))\n",
    "def son_Hiz (vi,a,t):\n",
    "    vf=float(vi+a*t)\n",
    "    print(f\"Son hız = {vf}\")\n",
    "son_Hiz(vi,a,t)"
   ]
  },
  {
   "cell_type": "markdown",
   "metadata": {
    "id": "uAHpyY5HM-Jq"
   },
   "source": [
    "# Problem 2\n",
    "\n",
    "1'den 1000'e kadar olan sayılardan mükemmel sayı olanları ekrana yazdırın. Bunun için bir sayının mükemmel olup olmadığını dönen bir tane fonksiyon yazın.\n",
    "\n",
    "Bir sayının bölenlerinin toplamı kendine eşitse bu sayı mükemmel bir sayıdır. Örnek olarak 6 mükemmel bir sayıdır (1 + 2 + 3 = 6)."
   ]
  },
  {
   "cell_type": "code",
   "execution_count": 9,
   "metadata": {},
   "outputs": [
    {
     "name": "stdout",
     "output_type": "stream",
     "text": [
      "6 Mükemmel sayıdır.\n",
      "28 Mükemmel sayıdır.\n",
      "496 Mükemmel sayıdır.\n"
     ]
    }
   ],
   "source": [
    "def mukemmel(sayı): \n",
    "    toplam = 0\n",
    "    for i in range(1, sayı):\n",
    "        if sayı % i == 0:\n",
    "            toplam += i \n",
    "    return toplam == sayı \n",
    "\n",
    "for i in range(1, 1001):\n",
    "    if mukemmel(i):\n",
    "        print(i, \"Mükemmel sayıdır.\")"
   ]
  },
  {
   "cell_type": "markdown",
   "metadata": {
    "id": "C2-XwlJtM-Jr"
   },
   "source": [
    "# Problem 3\n",
    "\n",
    "1'den 100'e kadar olan sayılardan pisagor üçgeni oluşturanları ekrana yazdıran bir fonksiyon yazın.(a <= 100,b <= 100)\n"
   ]
  },
  {
   "cell_type": "code",
   "execution_count": 10,
   "metadata": {
    "id": "BMNy4xi-M-Js"
   },
   "outputs": [
    {
     "name": "stdout",
     "output_type": "stream",
     "text": [
      "(3, 4, 5) Pisagor üçgenidir.\n",
      "(5, 12, 13) Pisagor üçgenidir.\n",
      "(6, 8, 10) Pisagor üçgenidir.\n",
      "(7, 24, 25) Pisagor üçgenidir.\n",
      "(8, 15, 17) Pisagor üçgenidir.\n",
      "(9, 12, 15) Pisagor üçgenidir.\n",
      "(9, 40, 41) Pisagor üçgenidir.\n",
      "(10, 24, 26) Pisagor üçgenidir.\n",
      "(11, 60, 61) Pisagor üçgenidir.\n",
      "(12, 16, 20) Pisagor üçgenidir.\n",
      "(12, 35, 37) Pisagor üçgenidir.\n",
      "(13, 84, 85) Pisagor üçgenidir.\n",
      "(14, 48, 50) Pisagor üçgenidir.\n",
      "(15, 20, 25) Pisagor üçgenidir.\n",
      "(15, 36, 39) Pisagor üçgenidir.\n",
      "(16, 30, 34) Pisagor üçgenidir.\n",
      "(16, 63, 65) Pisagor üçgenidir.\n",
      "(18, 24, 30) Pisagor üçgenidir.\n",
      "(18, 80, 82) Pisagor üçgenidir.\n",
      "(20, 21, 29) Pisagor üçgenidir.\n",
      "(20, 48, 52) Pisagor üçgenidir.\n",
      "(21, 28, 35) Pisagor üçgenidir.\n",
      "(21, 72, 75) Pisagor üçgenidir.\n",
      "(24, 32, 40) Pisagor üçgenidir.\n",
      "(24, 45, 51) Pisagor üçgenidir.\n",
      "(24, 70, 74) Pisagor üçgenidir.\n",
      "(25, 60, 65) Pisagor üçgenidir.\n",
      "(27, 36, 45) Pisagor üçgenidir.\n",
      "(28, 45, 53) Pisagor üçgenidir.\n",
      "(28, 96, 100) Pisagor üçgenidir.\n",
      "(30, 40, 50) Pisagor üçgenidir.\n",
      "(30, 72, 78) Pisagor üçgenidir.\n",
      "(32, 60, 68) Pisagor üçgenidir.\n",
      "(33, 44, 55) Pisagor üçgenidir.\n",
      "(33, 56, 65) Pisagor üçgenidir.\n",
      "(35, 84, 91) Pisagor üçgenidir.\n",
      "(36, 48, 60) Pisagor üçgenidir.\n",
      "(36, 77, 85) Pisagor üçgenidir.\n",
      "(39, 52, 65) Pisagor üçgenidir.\n",
      "(39, 80, 89) Pisagor üçgenidir.\n",
      "(40, 42, 58) Pisagor üçgenidir.\n",
      "(40, 75, 85) Pisagor üçgenidir.\n",
      "(42, 56, 70) Pisagor üçgenidir.\n",
      "(45, 60, 75) Pisagor üçgenidir.\n",
      "(48, 55, 73) Pisagor üçgenidir.\n",
      "(48, 64, 80) Pisagor üçgenidir.\n",
      "(51, 68, 85) Pisagor üçgenidir.\n",
      "(54, 72, 90) Pisagor üçgenidir.\n",
      "(57, 76, 95) Pisagor üçgenidir.\n",
      "(60, 63, 87) Pisagor üçgenidir.\n",
      "(60, 80, 100) Pisagor üçgenidir.\n",
      "(65, 72, 97) Pisagor üçgenidir.\n"
     ]
    }
   ],
   "source": [
    "def pisagor():\n",
    "    for a in range(1, 101):\n",
    "        for b in range(a, 101):  \n",
    "            for c in range(b, 101): \n",
    "                if a**2 + b**2 == c**2:\n",
    "                    print(f\"({a}, {b}, {c}) Pisagor üçgenidir.\")\n",
    "\n",
    "pisagor()"
   ]
  },
  {
   "cell_type": "markdown",
   "metadata": {
    "id": "oPfmWi4jM-Js"
   },
   "source": [
    "# Problem 4\n",
    "\n",
    "Bir duvar boyamaya karar verdiniz. Boya kutusunun üzerindeki talimatta, 1 kutu boyanın 5 metrekarelik bir duvarı boyayabileceği yazıyor. Rastgele bir duvar yüksekliği ve genişliği verildiğinde, kaç kutu boya satın almanız gerektiğini hesaplayın.\n",
    "\n",
    "kutu sayısı = (duvar yüksekliği * duvar genişliği) ÷ kutu başına kaplama.\n",
    "\n",
    "örneğin Yükseklik = 2, Genişlik = 4, Kaplama = 5\n",
    "\n",
    "kutu sayısı = (2 * 4) ÷ 5 = 1.6\n",
    "\n",
    "Ancak bir kutu boyanın 0,6'sını satın alamayacağınız için, sonuç 2 kutuya yuvarlanmalıdır .\n"
   ]
  },
  {
   "cell_type": "code",
   "execution_count": 14,
   "metadata": {
    "id": "0zuyzSp5M-Jt"
   },
   "outputs": [
    {
     "name": "stdout",
     "output_type": "stream",
     "text": [
      "Boyanacak toplam alan: 8 metrekare\n",
      "Gerekli boya kutusu sayısı: 2\n"
     ]
    }
   ],
   "source": [
    "def boya_hesapla(duvar_yuksekligi, duvar_genisligi, kutu_kaplama_alani):\n",
    "    \n",
    "    toplam_alan = duvar_yuksekligi * duvar_genisligi\n",
    "    tam_kutu_sayisi = toplam_alan // kutu_kaplama_alani  \n",
    "    kalan_alan = toplam_alan % kutu_kaplama_alani\n",
    "\n",
    "    if kalan_alan > 0:\n",
    "        tam_kutu_sayisi += 1\n",
    "    \n",
    "    print(f\"Boyanacak toplam alan: {toplam_alan} metrekare\")\n",
    "    print(f\"Gerekli boya kutusu sayısı: {tam_kutu_sayisi}\")\n",
    "\n",
    "boya_hesapla(2, 4, 5)\n"
   ]
  },
  {
   "cell_type": "markdown",
   "metadata": {
    "id": "pe6TJuBBM-Ju"
   },
   "source": [
    "# Problem 5\n",
    "\n",
    "Bir kelimedeki ünlü ve ünsüz harfleri sayan bir fonksiyon yazınız."
   ]
  },
  {
   "cell_type": "code",
   "execution_count": 24,
   "metadata": {
    "id": "LJ0opjiLM-Ju"
   },
   "outputs": [
    {
     "name": "stdout",
     "output_type": "stream",
     "text": [
      "Ünsüz harfler: ['n', 'b', 'r']\n",
      "Ünlü harfler: ['a', 'e']\n"
     ]
    }
   ],
   "source": [
    "unlu_Harfler = \"aeıioöuüAEIİOÖUÜ\"\n",
    "unsuz_Harfler = \"bcçdfgğhjklmnprsştvyzBCÇDFGĞHJKLMNPRSŞTVYZ\"\n",
    "\n",
    "def kontrol(kelime):\n",
    "    unlu = [i for i in kelime if i in unlu_Harfler]  \n",
    "    unsuz = [i for i in kelime if i in unsuz_Harfler] \n",
    "    \n",
    "    print(f\"Ünsüz harfler: {unsuz}\")\n",
    "    print(f\"Ünlü harfler: {unlu}\")\n",
    "    \n",
    "deger = input(\"Kelime giriniz: \")\n",
    "kontrol(deger)\n"
   ]
  },
  {
   "cell_type": "markdown",
   "metadata": {
    "id": "Lfls2YTXM-Jv"
   },
   "source": [
    "# Problem 6\n",
    "\n",
    "Verilen bir listeden çift sayıları yazdıran bir fonksiyon yazınız.\n"
   ]
  },
  {
   "cell_type": "code",
   "execution_count": 26,
   "metadata": {
    "id": "qUwsL20IM-Jv"
   },
   "outputs": [
    {
     "name": "stdout",
     "output_type": "stream",
     "text": [
      "[2, 4, 6, 8]\n"
     ]
    }
   ],
   "source": [
    "def cift(j):\n",
    "    sayi=[]\n",
    "    for n in j:\n",
    "        if n % 2==0:\n",
    "            sayi.append(n)\n",
    "    return sayi\n",
    "print(cift([1,2,3,4,5,6,7,8,9]))"
   ]
  },
  {
   "cell_type": "markdown",
   "metadata": {
    "id": "IPp724iIM-Jy"
   },
   "source": [
    "# Problem 7\n",
    "\n",
    "0'dan 10'a kadar olan sayıların toplamını hesaplayan özyinelemeli (Recursive Function) bir fonksiyon oluşturan bir fonksiyon yazınız.\n",
    "\n",
    "Özyinelemeli (Recursive Function) bir işlev, kendini tekrar tekrar çağıran bir işlevdir."
   ]
  },
  {
   "cell_type": "code",
   "execution_count": 31,
   "metadata": {
    "id": "KFW6xhTJM-Jz"
   },
   "outputs": [
    {
     "name": "stdout",
     "output_type": "stream",
     "text": [
      "0'dan 10'a kadar olan sayıların toplamı: 55\n"
     ]
    }
   ],
   "source": [
    "def toplam(n):\n",
    "    if n:\n",
    "        return n + toplam(n-1)\n",
    "    else:\n",
    "        return 0\n",
    "sonuc = toplam(10)\n",
    "print(f\"0'dan 10'a kadar olan sayıların toplamı: {sonuc}\")\n"
   ]
  }
 ],
 "metadata": {
  "colab": {
   "provenance": []
  },
  "kernelspec": {
   "display_name": "Python 3",
   "language": "python",
   "name": "python3"
  },
  "language_info": {
   "codemirror_mode": {
    "name": "ipython",
    "version": 3
   },
   "file_extension": ".py",
   "mimetype": "text/x-python",
   "name": "python",
   "nbconvert_exporter": "python",
   "pygments_lexer": "ipython3",
   "version": "3.13.2"
  },
  "orig_nbformat": 4
 },
 "nbformat": 4,
 "nbformat_minor": 0
}
