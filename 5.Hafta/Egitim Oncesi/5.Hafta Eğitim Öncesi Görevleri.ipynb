{
 "cells": [
  {
   "cell_type": "markdown",
   "metadata": {
    "id": "hpyeSHc7K1aN"
   },
   "source": [
    "# Problem 1\n",
    "Bir YetGenli yeni aldığı bahçesinin etrafına çit çevirmek istiyor. Bahçenin etrafını çit ile çevirmek için gerekli çit uzunluğunu ve bahçenin alanını hesaplayan fonksiyonu yazınız."
   ]
  },
  {
   "cell_type": "code",
   "execution_count": null,
   "metadata": {
    "id": "HfCgs5BHK1aT"
   },
   "outputs": [
    {
     "name": "stdout",
     "output_type": "stream",
     "text": [
      "Gerekli çit uzunluğu: 100.0 \n",
      "Bahçenin alanı: 600.0\n"
     ]
    }
   ],
   "source": [
    "def bahce(uzunluk, genislik):\n",
    "    cevre = 2 * (uzunluk + genislik)\n",
    "    alan = uzunluk * genislik\n",
    "    return cevre, alan\n",
    "\n",
    "uzunluk = float(input(\"Bahçenin uzunluğu: \"))\n",
    "genislik = float(input(\"Bahçenin genişliği: \"))\n",
    "cevre,alan = bahce(uzunluk, genislik)\n",
    "\n",
    "print(f\"Gerekli çit uzunluğu: {cevre} \")\n",
    "print(f\"Bahçenin alanı: {alan}\")\n"
   ]
  },
  {
   "cell_type": "markdown",
   "metadata": {
    "id": "L90q8kwQK1aW"
   },
   "source": [
    "# Problem 2\n",
    "Kendisine gönderilen 2 sayı arasındaki tüm asal sayıları bulan fonksiyonu yazınız."
   ]
  },
  {
   "cell_type": "code",
   "execution_count": null,
   "metadata": {
    "id": "VxbxzQXdK1aX"
   },
   "outputs": [
    {
     "name": "stdout",
     "output_type": "stream",
     "text": [
      "11 ile 155 arasındaki asal sayılar: [11, 13, 17, 19, 23, 29, 31, 37, 41, 43, 47, 53, 59, 61, 67, 71, 73, 79, 83, 89, 97, 101, 103, 107, 109, 113, 127, 131, 137, 139, 149, 151]\n"
     ]
    }
   ],
   "source": [
    "def asal_sayilar(a, b):\n",
    "    asal_listesi = []\n",
    "    for sayi in range(a, b + 1):\n",
    "        if sayi < 2:\n",
    "            continue \n",
    "        \n",
    "        asal = True  \n",
    "        for i in range(2, sayi):  \n",
    "            if sayi % i == 0:  \n",
    "                asal = False\n",
    "                break  \n",
    "        \n",
    "        if asal:\n",
    "            asal_listesi.append(sayi)\n",
    "    \n",
    "    return asal_listesi  \n",
    "\n",
    "\n",
    "basla = int(input(\"Başlangıç sayısı: \"))\n",
    "bitir = int(input(\"Bitiş sayısı: \"))\n",
    "print(f\"{basla} ile {bitir} arasındaki asal sayılar: {asal_sayilar(basla, bitir)}\")\n"
   ]
  },
  {
   "cell_type": "markdown",
   "metadata": {
    "id": "OqbcX2FPK1aY"
   },
   "source": [
    "# Problem 3\n",
    "YetGen liderlerinin kurdukları girişim unicorn oluyor. YetGen liderleri iş arkadaşlarının alacağı ücretlerini hesaplamak için bir fonksiyon yazdılar. Bu fonksiyonu kullanarak, YetGen liderlerinin iş arkadaşlarına verecekleri ücretleri hesaplayınız.\n",
    "\n",
    "Ücret hesaplanması çalışma saatine bağlıdır. Bunun için kullanıcıdan çalışma saati bilgisinn alın. Sonrasında yapılacak ödemenin hesaplanacağı computePay() adlı bir fonksiyon oluşturun. Bu fonksiyonun içinde işlemler yapın. Çalışma saati 40 ve altındaysa saat başına ücret 10 TL’dir. 40 saatin üstünde çalışıldıysa saat başına ücret 15 TL sayılmaktadır.\n",
    "\n",
    "```\n",
    "Test etmek için 30 saat değerini giriniz,  sonuç 300 TL çıkmalı, \n",
    "ikincil test olarak 50 değerini giriniz,  sonuç 750 TL çıkmalı.\n",
    "```"
   ]
  },
  {
   "cell_type": "code",
   "execution_count": 3,
   "metadata": {
    "id": "Uhg6Gcc1K1aZ"
   },
   "outputs": [
    {
     "name": "stdout",
     "output_type": "stream",
     "text": [
      "Toplam ödeme: 750 TL\n"
     ]
    }
   ],
   "source": [
    "def computePay(calisma_Saati):\n",
    "\n",
    "    if calisma_Saati < 41:\n",
    "        ucret = 10 \n",
    "    else:\n",
    "        ucret = 15\n",
    "    return ucret*calisma_Saati\n",
    "\n",
    "calisma_saati = int(input(\"Çalışma saatini giriniz: \"))\n",
    "\n",
    "print(f\"Toplam ödeme: {computePay(calisma_saati)} TL\")\n",
    "\n"
   ]
  },
  {
   "cell_type": "markdown",
   "metadata": {
    "id": "V0BeBR90K1aZ"
   },
   "source": [
    "# Problem 4\n",
    "YetGenliler zirveye gitmek için toplanıyor. Zirveye gitmek için kiraladıkları araçlar 4'er kişiliktir. Gelecek kişi sayısı için Airtable üzerinde form açılıyor. Gelecek kişi sayısını alıp dört kişilik araçlara bölüp kalan kişi sayısını döndüren bir fonksiyon yazınız."
   ]
  },
  {
   "cell_type": "code",
   "execution_count": 20,
   "metadata": {
    "id": "AC8x-EQlK1aa"
   },
   "outputs": [
    {
     "name": "stdout",
     "output_type": "stream",
     "text": [
      "Kalan kişi sayısı: 2\n"
     ]
    }
   ],
   "source": [
    "def kalan_kisi_sayisi(gelecek_kisi):\n",
    "\n",
    "    return gelecek_kisi % 4\n",
    "\n",
    "gelecek_kisi = int(input(\"Gelecek kişi sayısını giriniz: \"))\n",
    "\n",
    "print(f\"Kalan kişi sayısı: {kalan_kisi_sayisi(gelecek_kisi)}\")\n"
   ]
  },
  {
   "cell_type": "markdown",
   "metadata": {
    "id": "dWcDwEVjK1ab"
   },
   "source": [
    "# Problem 5\n",
    "sayiTopla() adında bir fonksiyon yazın. sayiTopla() fonksiyonu girilen sayıları toplayarak yazdırmasını sağlayan bir fonksiyon yazınız.\n",
    "\n",
    "Örneğin sayiTopla(1,2,3,4,5) yazdığımızda 15 çıktısını almalıyız. sayiTopla(1,2,3,4,5,6,7,8,9,10) yazdığımızda 55 çıktısını almalıyız."
   ]
  },
  {
   "cell_type": "code",
   "execution_count": 21,
   "metadata": {
    "id": "fmCZcLM2K1ad"
   },
   "outputs": [
    {
     "name": "stdout",
     "output_type": "stream",
     "text": [
      "15\n",
      "55\n"
     ]
    }
   ],
   "source": [
    "def sayiTopla(*sayilar):\n",
    "\n",
    "    return sum(sayilar)\n",
    "\n",
    "print(sayiTopla(1, 2, 3, 4, 5))\n",
    "\n",
    "print(sayiTopla(1, 2, 3, 4, 5, 6, 7, 8, 9, 10))"
   ]
  },
  {
   "cell_type": "markdown",
   "metadata": {
    "id": "kd9edMkoK1ae"
   },
   "source": [
    "# Problem 6\n",
    "\n",
    "[(\"xxx\",1),(\"xxx\",2),(\"xxx\",9),(\"xxx\",3), (\"xxx\",1),(\"xxx\",13),(\"xxx\",26),(\"xxx\",4)] listesi içerisinde verilen elemanların her birini tuple içindeki 2. Elemana göre sıralayınız. \n",
    "\n"
   ]
  },
  {
   "cell_type": "code",
   "execution_count": 31,
   "metadata": {
    "id": "Jk4tgaH3K1af"
   },
   "outputs": [
    {
     "name": "stdout",
     "output_type": "stream",
     "text": [
      "[('xxx', 1), ('xxx', 1), ('xxx', 2), ('xxx', 3), ('xxx', 4), ('xxx', 9), ('xxx', 13), ('xxx', 26)]\n"
     ]
    }
   ],
   "source": [
    "sayilar = [(\"xxx\", 1), (\"xxx\", 2), (\"xxx\", 9), (\"xxx\", 3), (\"xxx\", 1), (\"xxx\", 13), (\"xxx\", 26), (\"xxx\", 4)]\n",
    "\n",
    "sirali_sayilar = sorted(sayilar, key=lambda x: x[1])\n",
    "\n",
    "print(sirali_sayilar)\n"
   ]
  },
  {
   "cell_type": "markdown",
   "metadata": {
    "id": "V0yKbDraK1af"
   },
   "source": [
    "# Problem 7\n",
    "List comprehension kullanarak 1'den 100'e kadar olan sayılardan sadece çift sayıları bir listeye atmayı yapmayı çalışın."
   ]
  },
  {
   "cell_type": "code",
   "execution_count": 33,
   "metadata": {
    "id": "iHosmISJK1ag"
   },
   "outputs": [
    {
     "name": "stdout",
     "output_type": "stream",
     "text": [
      "[2, 4, 6, 8, 10, 12, 14, 16, 18, 20, 22, 24, 26, 28, 30, 32, 34, 36, 38, 40, 42, 44, 46, 48, 50, 52, 54, 56, 58, 60, 62, 64, 66, 68, 70, 72, 74, 76, 78, 80, 82, 84, 86, 88, 90, 92, 94, 96, 98, 100]\n"
     ]
    }
   ],
   "source": [
    "cift_sayilar = [x for x in range(1, 101) if x % 2 == 0]\n",
    "\n",
    "print(cift_sayilar)\n"
   ]
  }
 ],
 "metadata": {
  "colab": {
   "provenance": []
  },
  "kernelspec": {
   "display_name": "Python 3",
   "language": "python",
   "name": "python3"
  },
  "language_info": {
   "codemirror_mode": {
    "name": "ipython",
    "version": 3
   },
   "file_extension": ".py",
   "mimetype": "text/x-python",
   "name": "python",
   "nbconvert_exporter": "python",
   "pygments_lexer": "ipython3",
   "version": "3.13.2"
  },
  "orig_nbformat": 4
 },
 "nbformat": 4,
 "nbformat_minor": 0
}
