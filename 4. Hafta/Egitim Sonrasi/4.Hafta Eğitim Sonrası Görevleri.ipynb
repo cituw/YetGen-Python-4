{
 "cells": [
  {
   "cell_type": "markdown",
   "metadata": {},
   "source": [
    "# Problem 1\n",
    "`ogrenciler` adında bir sözlük oluşturunuz. Kullanıcıdan döngü yardımıyla 3 öğrenci için veri girmesini isteyerek öğrencilerin sırasıyla okul numarası, isim, soy isim, telefon numarası ve doğum tarihi bilgilerini alınız. Aldığınız öğrenci bilgilerini yine aynı döngü yardımıyla `ogrenciler` adındaki sözlükte saklayınız. Daha sonra öğrenci bilgilerinin bulunduğu sözlük yapısını ekrana bastırınız.\n",
    "\n"
   ]
  },
  {
   "cell_type": "code",
   "execution_count": null,
   "metadata": {},
   "outputs": [],
   "source": [
    "ogrenciler=dict()\n",
    "for i in range (1,4):\n",
    "    okul_no = input(\"Okul Numarası:\")\n",
    "    isim = input(\"İsim:\")\n",
    "    soyad = input(\"Soy İsim:\")\n",
    "    numara = input (\"Telefon Numarası:\")\n",
    "    dogum_tarihi = input(\"Doğum Tarihi:\")\n",
    "    ogrenciler[i] = {\n",
    "        \"İsim\": isim,\n",
    "        \"Soy İsim\" : soyad,\n",
    "        \"Telefon\": numara,\n",
    "        \"Doğum Tarihi\": dogum_tarihi\n",
    "    }\n",
    "print(ogrenciler)\n",
    "\n",
    "\n"
   ]
  },
  {
   "cell_type": "markdown",
   "metadata": {},
   "source": [
    "# Problem 2\n",
    "\n",
    "### a - Biraz ısınarak başlayalım!\n",
    "\n",
    "```\n",
    "numbers = [5,10,10,15,15,15,20,20,20,20]\n",
    "```\n",
    "\n",
    "Yukarıda `numbers` adında 10 elemanlı bir liste verilmiştir. Bu listenin her elemanını kontrol eden ve tekrar eden elemanları bir kez olacak şekilde başka bir listeye kopyalayan bir program yazınız. Son olarak oluşturduğunuz listeyi ekrana bastırınız.\n",
    "\n",
    "\n",
    "\n",
    "\n",
    "```\n",
    ">Output\n",
    "[5, 10, 15, 20]\n",
    "```\n"
   ]
  },
  {
   "cell_type": "code",
   "execution_count": 11,
   "metadata": {},
   "outputs": [
    {
     "name": "stdout",
     "output_type": "stream",
     "text": [
      "[5, 10, 15, 20]\n"
     ]
    }
   ],
   "source": [
    "numbers = [5,10,10,15,15,15,20,20,20,20]\n",
    "farkli = []\n",
    "for i in numbers:\n",
    "    if i in farkli:\n",
    "        continue\n",
    "    else:\n",
    "        farkli.append(i)\n",
    "print(farkli)"
   ]
  },
  {
   "cell_type": "markdown",
   "metadata": {},
   "source": [
    "### 🌶️ b) Hadi işi biraz daha zorlaştıralım! \n",
    "\n",
    "\n",
    "Şimdiyse senden `numbers` isimli listedeki tekrar eden elemanları `repeatNumbers` adındaki listeye; tekrar etmeyen elemanları `uniqueNumbers`adındaki listeye kopyalayan yazmanı ve listeleri ekrana bastırmanı bekliyoruz\n",
    "\n",
    "```\n",
    ">Output\n",
    "Tekrar Eden Elemanlar: [10, 10, 15, 15, 15, 20, 20, 20, 20]\n",
    "Tekrar Etmeyen Elemanlar: [5]\n",
    "```"
   ]
  },
  {
   "cell_type": "code",
   "execution_count": 12,
   "metadata": {},
   "outputs": [
    {
     "name": "stdout",
     "output_type": "stream",
     "text": [
      "Tekrar Edenler: [10, 10, 15, 15, 15, 20, 20, 20, 20]\n",
      "Tekrar Etmeyenler: [5]\n"
     ]
    }
   ],
   "source": [
    "numbers = [5,10,10,15,15,15,20,20,20,20]\n",
    "uniqueNumbers = []\n",
    "repeatNumbers = []\n",
    "for i in numbers:\n",
    "    if numbers.count(i) == 1:\n",
    "        uniqueNumbers.append(i)\n",
    "    else:\n",
    "        repeatNumbers.append(i)\n",
    "print(\"Tekrar Edenler:\", repeatNumbers)\n",
    "print(\"Tekrar Etmeyenler:\", uniqueNumbers)"
   ]
  },
  {
   "cell_type": "markdown",
   "metadata": {},
   "source": [
    "# Problem 3\n",
    "sn1 = {1,2,3,4,5}\n",
    "\n",
    "sn2 = {4,5,6,7,8}\n",
    "\n",
    " Verilen 2 adet küme için kesişimlerini, farklarını ve birleşimlerini bulunuz. "
   ]
  },
  {
   "cell_type": "code",
   "execution_count": 13,
   "metadata": {},
   "outputs": [
    {
     "name": "stdout",
     "output_type": "stream",
     "text": [
      "{4, 5}\n"
     ]
    }
   ],
   "source": [
    "sn1 = {1,2,3,4,5}\n",
    "sn2 = {4,5,6,7,8}\n",
    "kesisim = sn1.intersection(sn2)\n",
    "print(kesisim)"
   ]
  },
  {
   "cell_type": "markdown",
   "metadata": {},
   "source": [
    "# Problem 4\n",
    "\n",
    "Buradaki işlemlerimizin tamamı stringler içindir. Aşağıda verilecek olan metodlar için kendinizin örnek yaratması gerekmektedir. \n",
    "\n",
    "Örneğin `upper` için `string` değişkeni oluştururken` k = \"BAC\"` şeklinde oluşturmayınız. Bunun yerine k değişkenini `k = \"bac`\" şeklinde oluşturmanız `upper` metodundaki değişimi görebilmeniz için daha iyi olacaktır.\n",
    "\n",
    "Bütün metodlardaki değişimin gözle görülür şekilde değişimi beklenmektedir.\n",
    "\n",
    "\n",
    "1- capitalize(), lower(), upper(), swapcase(), title(), replace()\n",
    "\n",
    "2- endswith(), startswith(), find(), index(), count()\n",
    "\n",
    "3- split(), strip(), join(), islower(), isalpha(), isdigit()\n",
    "\n",
    "\n",
    "Yukarıdaki `string` metodlarındaki değişimleri görebildiğimiz bir program yazınız.\n"
   ]
  },
  {
   "cell_type": "code",
   "execution_count": null,
   "metadata": {},
   "outputs": [
    {
     "name": "stdout",
     "output_type": "stream",
     "text": [
      "Deneme\n",
      "deneme\n",
      "DENEME\n",
      "DENEME\n",
      "Deneme\n",
      "danama\n",
      "True\n",
      "False\n",
      "2\n",
      "1\n",
      "3\n",
      "['deneme']\n",
      "deneme\n",
      "d-e-n-e-m-e\n",
      "True\n",
      "True\n",
      "False\n"
     ]
    }
   ],
   "source": [
    "k =        \"deneme\"\n",
    "\n",
    "print(k.capitalize())\n",
    "print(k.lower())\n",
    "print(k.upper())\n",
    "print(k.swapcase())\n",
    "print(k.title())\n",
    "print(k.replace(\"e\", \"a\"))\n",
    "\n",
    "print(k.endswith(\"e\"))\n",
    "print(k.startswith(\"D\"))\n",
    "print(k.find(\"n\"))\n",
    "print(k.index(\"e\"))\n",
    "print(k.count(\"e\"))\n",
    "\n",
    "print(k.split())\n",
    "print(k.strip())\n",
    "print(\"-\".join(k))\n",
    "print(k.islower())\n",
    "print(k.isalpha())\n",
    "print(k.isdigit())"
   ]
  }
 ],
 "metadata": {
  "kernelspec": {
   "display_name": "Python 3",
   "language": "python",
   "name": "python3"
  },
  "language_info": {
   "codemirror_mode": {
    "name": "ipython",
    "version": 3
   },
   "file_extension": ".py",
   "mimetype": "text/x-python",
   "name": "python",
   "nbconvert_exporter": "python",
   "pygments_lexer": "ipython3",
   "version": "3.13.2"
  },
  "orig_nbformat": 4
 },
 "nbformat": 4,
 "nbformat_minor": 2
}
