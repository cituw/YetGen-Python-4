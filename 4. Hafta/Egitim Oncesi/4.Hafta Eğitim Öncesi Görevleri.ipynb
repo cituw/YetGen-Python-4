{
 "cells": [
  {
   "cell_type": "markdown",
   "metadata": {
    "id": "-My6RWLrhXIq"
   },
   "source": [
    "# Problem 1\n",
    "Sözlükleri kullanarak bir telefon rehberi yazın. Bu rehberde kullanıcıya kimin telefonunu görüntülemek istediğini sorun ve kullanıcının girdiği isme göre o kişinin telefon numarasını yazdırın. Proje sonunda elde edeceğiniz çıktı  şuna benzer olmalı:\n",
    "\n",
    "\n",
    "Lütfen numarasını öğrenmek istediğiniz kişinin adını girin: Ahmet\n",
    "\n",
    "Ahmet isimli kişinin numarası şu şekildedir: 0532 678 13 19"
   ]
  },
  {
   "cell_type": "code",
   "execution_count": 12,
   "metadata": {
    "id": "LHIQEhchhXIu"
   },
   "outputs": [
    {
     "name": "stdout",
     "output_type": "stream",
     "text": [
      "Bu isim rehberde yok\n"
     ]
    }
   ],
   "source": [
    "rehber = {\"ahmet\": \"0532 678 13 19\", \"elif\": \"0555 928 88 43\", \"ali\": \"0505 244 22 42\"}\n",
    "isim = input(\"Kimin telefon numarasını öğrenmek istersiniz: \")\n",
    "if isim in rehber:\n",
    "    print(isim + \":\", rehber[isim])\n",
    "else:\n",
    "    print(\"Bu isim rehberde yok\")"
   ]
  },
  {
   "cell_type": "markdown",
   "metadata": {
    "id": "rlgfjEi7hXIv"
   },
   "source": [
    "# Problem 2\n",
    "Sözlükleri kullanarak bir şirket çalışanları indeksi oluşturun. Bu isim indeksinde kişilerin isimleri key, kişilerin  memleket, yaş ve görev bilgileri value olmalıdır. Burada kullanacağımız value değerleri liste olmalıdır.\n",
    "\n",
    "\n",
    "Daha sonra bir isim sorgulama ekranı gibi kullanıcıya kimin bilgilerini görüntülemek istediğini \n",
    "sorun ve sorgulanan kişinin ekranda gösterilmesini sağlayın. Proje sonunda elde edeceğiniz çıktı şu şekilde olmalı:\n",
    "\n",
    "\n",
    "Lütfen bilgilerini görüntülemek istediğiniz çalışanın ismini girin: Mehmet Yağız\n",
    "\n",
    "Mehmet Yağız= Memleket: Adana Yaş: 40 Görev: Direktör"
   ]
  },
  {
   "cell_type": "code",
   "execution_count": null,
   "metadata": {
    "id": "O09zrrs0hXIv"
   },
   "outputs": [
    {
     "name": "stdout",
     "output_type": "stream",
     "text": [
      "İsim: mehmet\n",
      "Memleket: istanbul\n",
      "Yaş: 35\n",
      "Görev: pazarlama\n"
     ]
    }
   ],
   "source": [
    "calisanlar = {\"ali\": [\"konya\", 25, \"muhasebe\"], \"ayşe\": [\"ankara\", 30, \"pazarlama\"], \"mehmet\": [\"istanbul\", 35, \"pazarlama\"]}\n",
    "isim = input(\"Kimin bilgilerini öğrenmek istersiniz: \")\n",
    "if isim in calisanlar:\n",
    "    print(\"İsim:\", isim)\n",
    "    print(\"Memleket:\", calisanlar[isim][0])\n",
    "    print(\"Yaş:\", calisanlar[isim][1])\n",
    "    print(\"Görev:\", calisanlar[isim][2])\n",
    "else:\n",
    "    print(\"Bu isim listede yok\")"
   ]
  },
  {
   "cell_type": "markdown",
   "metadata": {
    "id": "G67ztXG-hXIw"
   },
   "source": [
    "# Problem 3\n",
    "\n",
    "3 öğrenciden oluşan bir öğrenci not sözlüğü oluşturun. Bu sözlükte öğrencilerin notları value olarak bir listede toplansın.\n",
    "\n",
    "Kullanıcıya hangi öğrencinin notlarını görmek istediğini sorun. Öğrencinin notu görüntülendiğinde program sonunda şöyle bir çıktı elde etmelisiniz:\n",
    "\n",
    "```\n",
    "Lütfen notlarını görmek istediğiniz öğrencinin adını girin: Mehmet\n",
    "\n",
    "Mehmet isimli öğrencinin      1.Sınav Notu:72\n",
    "                              2.Sınav Notu:66\n",
    "                              3.Sınav Notu:48\n",
    "Not Ortalaması: 62.0\n"
   ]
  },
  {
   "cell_type": "code",
   "execution_count": 37,
   "metadata": {
    "id": "TXQ_fuCHhXIw"
   },
   "outputs": [
    {
     "name": "stdout",
     "output_type": "stream",
     "text": [
      "1. Sınav Notu: 93\n",
      "2. Sınav Notu: 55\n",
      "3. Sınav Notu: 70\n",
      "Ortalama: 72.66666666666667\n"
     ]
    }
   ],
   "source": [
    "notlar = {\"ali\": [93, 55, 70], \"ayşe\": [65, 70, 80], \"mehmet\": [55, 60, 75]}\n",
    "isim = input(\"Öğrencinin adını girin: \")\n",
    "if isim in notlar:\n",
    "    ortalama = sum(notlar[isim]) / len(notlar[isim])\n",
    "    print(\"1. Sınav Notu:\", notlar[isim][0])\n",
    "    print(\"2. Sınav Notu:\", notlar[isim][1])\n",
    "    print(\"3. Sınav Notu:\", notlar[isim][2])\n",
    "    print(\"Ortalama:\", ortalama)\n",
    "else:\n",
    "    print(\"Bu isim listede yok\")\n"
   ]
  },
  {
   "cell_type": "markdown",
   "metadata": {
    "id": "oel6A5WFhXIw"
   },
   "source": [
    "# Problem 4"
   ]
  },
  {
   "cell_type": "code",
   "execution_count": 3,
   "metadata": {
    "id": "jVRdspCrhXIx"
   },
   "outputs": [
    {
     "name": "stdout",
     "output_type": "stream",
     "text": [
      "['Bmw', 'Mercedes', 'Opel', 'Mazda']\n",
      "4\n",
      "Bmw Mazda\n",
      "['Bmw', 'Mercedes', 'Opel', 'Toyota']\n",
      "Opel\n",
      "['Bmw', 'Mercedes', 'Opel']\n",
      "['Bmw', 'Mercedes', 'Toyota', 'Renault']\n",
      "['Bmw', 'Mercedes', 'Toyota', 'Renault', 'Audi', 'Nissan']\n",
      "['Bmw', 'Mercedes', 'Toyota', 'Renault', 'Audi']\n",
      "['Audi', 'Renault', 'Toyota', 'Mercedes', 'Bmw']\n",
      "<class 'list'>\n",
      "[['Yiğit Bilgi', 2010, [70, 60, 70]], ['Sena Turan', 1999, [80, 80, 70]], ['Ahmet Turan', 1998, [80, 70, 90]]]\n",
      "['Sena', 'Ali', 'Yağmur', 'Hakan', 'Deniz', 'Cenk']\n",
      "['Sena', 'Ali', 'Yağmur', 'Hakan', 'Cenk']\n",
      "True\n",
      "['Ali', 'Cenk', 'Hakan', 'Sena', 'Yağmur']\n",
      "[1987, 1998, 1998, 2000]\n",
      "['Chevrolet', 'Dacia']\n",
      "<class 'list'>\n",
      "2\n",
      "[]\n",
      "['ee', 'rr', '44']\n"
     ]
    }
   ],
   "source": [
    "# 1-  \"Bmw, Mercedes, Opel, Mazda\" elemanlarına sahip bir liste oluşturunuz.\n",
    "araclar = [\"Bmw\", \"Mercedes\", \"Opel\", \"Mazda\"]\n",
    "print(araclar)\n",
    "\n",
    "# 2-  Liste Kaç elemanlıdır ?\n",
    "print(len(araclar))\n",
    "\n",
    "# 3-  Listenin ilk ve son elemanı nedir ?\n",
    "print(araclar[0], araclar[-1])\n",
    "\n",
    "# 4-  Mazda değerini Toyota ile değiştirin.\n",
    "araclar[-1] = \"Toyota\"\n",
    "print(araclar)\n",
    "\n",
    "# 5-  Listenin -2 indeksindeki değer nedir ?\n",
    "print(araclar[-2])\n",
    "\n",
    "# 6-  Listenin ilk 3 elemanını alın.\n",
    "print(araclar[:3])\n",
    "\n",
    "# 7-  Listenin son 2 elemanı yerine \"Toyota\" ve \"Renault\" değerlerini ekleyin.\n",
    "araclar[-2:] = [\"Toyota\", \"Renault\"]\n",
    "print(araclar)\n",
    "\n",
    "# 8-  Listenin üzerine \"Audi\" ve \"Nissan\" değerlerini ekleyin.\n",
    "araclar.append(\"Audi\")\n",
    "araclar.append(\"Nissan\")\n",
    "print(araclar)\n",
    "\n",
    "# 9- Listenin son elemanını silin.\n",
    "araclar.pop(-1)\n",
    "print(araclar)\n",
    "\n",
    "# 10- Liste elemanlarını tersten yazdırınız.\n",
    "print(araclar[::-1])\n",
    "\n",
    "# 11- Aşağıdaki verileri bir liste içinde saklayınız. \n",
    "\n",
    "      # studentA: Yiğit Bilgi 2010, (70,60,70)\n",
    "      # studentB: Sena Turan  1999, (80,80,70)\n",
    "      # studentC: Ahmet Turan 1998, (80,70,90) \n",
    "\n",
    "students = [[\"Yiğit Bilgi\", 2010, [70,60,70]], [\"Sena Turan\", 1999, [80,80,70]], [\"Ahmet Turan\", 1998, [80,70,90]]]\n",
    "print(type(students))\n",
    "\n",
    "\n",
    "\n",
    "# 12- Liste elemanlarını ekrana yazdırınız.\n",
    "print(students)\n",
    "\n",
    "\n",
    "  \n",
    "names = ['Ali','Yağmur','Hakan','Deniz']\n",
    "years = [1998, 2000, 1998, 1987]\n",
    "\n",
    "# 13-  \"Cenk\" ismini listenin sonuna ekleyiniz.\n",
    "names.append(\"Cenk\")\n",
    "\n",
    "\n",
    "# 14-  \"Sena\" değerini listenin başına ekleyiniz.\n",
    "names.insert(0, \"Sena\")\n",
    "print(names)\n",
    "\n",
    "\n",
    "# 15-  \"Deniz\" ismini listeden siliniz.\n",
    "names.remove(\"Deniz\")\n",
    "print(names)\n",
    "\n",
    "\n",
    "# 16-  \"Ali\" listenin bir elemanı mıdır ?\n",
    "print(\"Ali\" in names)\n",
    "\n",
    "# 17-  Liste elemanlarını ters çevirin.\n",
    "names.reverse()\n",
    "\n",
    "# 18-  Liste elemanlarını alfabetik olarak sıralayınız.\n",
    "names.sort()\n",
    "print(names)\n",
    "\n",
    "# 19-  years listesini rakamsal büyüklüğe göre sıralayınız.\n",
    "years.sort()\n",
    "print(years)\n",
    "\n",
    "# 20-  str = \"Chevrolet,Dacia\" karakter dizisini listeye çeviriniz.\n",
    "str = list((\"Chevrolet\",\"Dacia\"))\n",
    "print(str)\n",
    "print(type(str))\n",
    "\n",
    "# 21- years dizisinde kaç tane 1998 değeri vardır ?\n",
    "print(years.count(1998))\n",
    "\n",
    "# 22- years dizisinin tüm elemanlarını siliniz.\n",
    "years.clear()\n",
    "print(years)\n",
    "\n",
    "# 23- Kullanıcıdan alacağınız 3 tane marka bilgisini bir listede saklayınız. for kullanarak ekrana yazdırınız.\n",
    "markalar = []\n",
    "for i in range(3):\n",
    "    marka = input(\"Marka: \")\n",
    "    markalar.append(marka)\n",
    "print(markalar)\n",
    "\n",
    "\n"
   ]
  }
 ],
 "metadata": {
  "colab": {
   "provenance": []
  },
  "kernelspec": {
   "display_name": "Python 3",
   "language": "python",
   "name": "python3"
  },
  "language_info": {
   "codemirror_mode": {
    "name": "ipython",
    "version": 3
   },
   "file_extension": ".py",
   "mimetype": "text/x-python",
   "name": "python",
   "nbconvert_exporter": "python",
   "pygments_lexer": "ipython3",
   "version": "3.13.2"
  },
  "orig_nbformat": 4
 },
 "nbformat": 4,
 "nbformat_minor": 0
}
