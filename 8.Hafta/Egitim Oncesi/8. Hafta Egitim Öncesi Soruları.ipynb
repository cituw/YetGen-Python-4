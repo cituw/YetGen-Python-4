{
 "cells": [
  {
   "cell_type": "markdown",
   "metadata": {
    "id": "Pzh44PAE5H61"
   },
   "source": [
    "# Problem 1 \n",
    "Kullanıcıdan aldığı ürün bilgisini (ad, fiyat) urunler.txt dosyasına kayıt eden fonksiyonu yazınız."
   ]
  },
  {
   "cell_type": "code",
   "execution_count": 7,
   "metadata": {},
   "outputs": [
    {
     "name": "stdout",
     "output_type": "stream",
     "text": [
      "Ürün bilgileri başarıyla kaydedildi.\n"
     ]
    }
   ],
   "source": [
    "def urun_bilgilerini_al():\n",
    "    urun_adi = input(\"Ürün adı: \")\n",
    "    urun_fiyati = input(\"Ürün fiyatı: \")\n",
    "    urun_adedi = input(\"Ürün adedi: \")\n",
    "    return urun_adi, urun_fiyati, urun_adedi\n",
    "\n",
    "def urunleri_dosyaya_yaz(urunler):\n",
    "    with open(\"urunler.txt\", \"a\", encoding=\"utf-8\") as dosya:\n",
    "        for urun in urunler:\n",
    "            dosya.write(f\"{urun[0]}, {urun[1]}, {urun[2]}\\n\")\n",
    "\n",
    "def main():\n",
    "    urunler = []\n",
    "    while True:\n",
    "        urun = urun_bilgilerini_al()\n",
    "        urunler.append(urun)\n",
    "        devam = input(\"Başka bir ürün eklemek ister misiniz? (evet/hayır): \").strip().lower()\n",
    "        if devam != \"evet\":\n",
    "            break\n",
    "\n",
    "    urunleri_dosyaya_yaz(urunler)\n",
    "    print(\"Ürün bilgileri başarıyla kaydedildi.\")\n",
    "\n",
    "main()"
   ]
  },
  {
   "cell_type": "markdown",
   "metadata": {
    "id": "Lw7xy19D5H66"
   },
   "source": [
    "# Problem 2\n",
    "1.problemde oluşturulan text dosyası içerisinde kullanıcıdan alacağımız eski kelime isimli değişkene atadığımız \n",
    "ve değiştirilmesini istediğimiz kelimemizi yerini alıcak olan yeni kelime isimli değişkene atayın. Belirlenen kelimeleri text dosyasında değiştiren fonksiyonu yazınız."
   ]
  },
  {
   "cell_type": "code",
   "execution_count": 10,
   "metadata": {
    "id": "jDlym3ko5H66"
   },
   "outputs": [
    {
     "name": "stdout",
     "output_type": "stream",
     "text": [
      "'36' kelimesi başarıyla '35' olarak değiştirildi.\n"
     ]
    }
   ],
   "source": [
    "def kelime_degistir(dosya_adi, eski_kelime, yeni_kelime):\n",
    "    try:\n",
    "        \n",
    "        with open(dosya_adi, \"r\", encoding=\"utf-8\") as dosya:\n",
    "            icerik = dosya.read()\n",
    "        \n",
    "    \n",
    "        yeni_icerik = icerik.replace(eski_kelime, yeni_kelime)\n",
    "        \n",
    "    \n",
    "        with open(dosya_adi, \"w\", encoding=\"utf-8\") as dosya:\n",
    "            dosya.write(yeni_icerik)\n",
    "        \n",
    "        print(f\"'{eski_kelime}' kelimesi başarıyla '{yeni_kelime}' olarak değiştirildi.\")\n",
    "    except FileNotFoundError:\n",
    "        print(f\"'{dosya_adi}' dosyası bulunamadı.\")\n",
    "    except Exception as e:\n",
    "        print(f\"Bir hata oluştu: {e}\")\n",
    "\n",
    "def main():\n",
    "    dosya_adi = \"urunler.txt\"\n",
    "    eski_kelime = input(\"Değiştirmek istediğiniz kelime: \")\n",
    "    yeni_kelime = input(\"Yeni kelime: \")\n",
    "    kelime_degistir(dosya_adi, eski_kelime, yeni_kelime)\n",
    "\n",
    "main()"
   ]
  },
  {
   "cell_type": "markdown",
   "metadata": {
    "id": "3aSYk4FF5H67"
   },
   "source": [
    "# Problem 3\n",
    "Vehicle sınıfının tüm değişkenlerini ve yöntemlerini devralacak bir alt sınıf olarak Bus sınıfı oluşturunuz.\n",
    "\n",
    "\n",
    "\n",
    "```\n",
    "Output\n",
    "> Name: School Volvo Speed: 180 Mileage: 12\n",
    "```\n"
   ]
  },
  {
   "cell_type": "code",
   "execution_count": 12,
   "metadata": {
    "id": "PwCI6Xkb5H68"
   },
   "outputs": [
    {
     "name": "stdout",
     "output_type": "stream",
     "text": [
      "Name: School Volvo Speed: 180 Mileage: 12\n"
     ]
    }
   ],
   "source": [
    "class Vehicle:\n",
    "    def __init__(self, name, speed, mileage):\n",
    "        self.name = name\n",
    "        self.speed = speed\n",
    "        self.mileage = mileage\n",
    "\n",
    "    def cikti(self):\n",
    "        return f\"Name: {self.name} Speed: {self.speed} Mileage: {self.mileage}\"\n",
    "\n",
    "class Bus(Vehicle):\n",
    "    pass\n",
    "\n",
    "school_bus = Bus(\"School Volvo\", 180, 12)\n",
    "print(school_bus.cikti())"
   ]
  }
 ],
 "metadata": {
  "colab": {
   "provenance": []
  },
  "kernelspec": {
   "display_name": "Python 3",
   "language": "python",
   "name": "python3"
  },
  "language_info": {
   "codemirror_mode": {
    "name": "ipython",
    "version": 3
   },
   "file_extension": ".py",
   "mimetype": "text/x-python",
   "name": "python",
   "nbconvert_exporter": "python",
   "pygments_lexer": "ipython3",
   "version": "3.13.2"
  },
  "orig_nbformat": 4,
  "vscode": {
   "interpreter": {
    "hash": "5026d2d6e7aaaaba093def813beadff083d8733e4a511af01735cbabd156995d"
   }
  }
 },
 "nbformat": 4,
 "nbformat_minor": 0
}
