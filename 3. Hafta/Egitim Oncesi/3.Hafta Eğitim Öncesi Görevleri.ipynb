{
  "cells": [
    {
      "cell_type": "markdown",
      "metadata": {
        "id": "tsD4YVAe_Te2"
      },
      "source": [
        "# Problem 1\n",
        "Bir sayının 7'ye bölünebilir olup olmadığını kontrol etmek \n",
        "için bir program yazın.\n",
        "\n",
        "İpucu: Mod operatörünü (%) kullanabilirsiniz."
      ]
    },
    {
      "cell_type": "code",
      "execution_count": null,
      "metadata": {},
      "outputs": [
        {
          "name": "stdout",
          "output_type": "stream",
          "text": [
            "Girdiğiniz sayı 7'ye tam bölünür.\n"
          ]
        }
      ],
      "source": [
        "sayi = int(input(\"Bir sayı giriniz: \"))\n",
        "if sayi % 7 == 0:\n",
        "    print(\"Girdiğiniz sayı 7'ye tam bölünür.\")\n",
        "else:\n",
        "    print(\"Girdiğiniz sayı 7'ye tam bölünmez.\")"
      ]
    },
    {
      "cell_type": "markdown",
      "metadata": {
        "id": "Kg3qiBAI_Te8"
      },
      "source": [
        "# Problem 2\n",
        "Kullanıcıdan vize ve final notu isteyin. Girilen vize notunun %40’ı ve \n",
        "girilen finalnotunun ise %60’ı alınarak yıl sonu not ortalaması hesaplanacaktır. \n",
        "\n",
        "Bu not ortalaması eğer 85 ve üzeri ise AA, \n",
        "\n",
        "75 ve 85 arasında ise BA, \n",
        "\n",
        "70 ve 75 arasında ise BB, \n",
        "\n",
        "65 ve 70 arasında ise CB,\n",
        "\n",
        "60 ve 65 arasında ise CC,\n",
        "\n",
        "55 ve 60 arasında ise DC,\n",
        "\n",
        "50 ve 55 arasında ise DD olarak hesaplanacaktır. \n",
        "\n",
        "Bu öğrencinin yıl sonu toplam notu 50’nin altında ise FF ile dersten kalacaktır. \n",
        "\n",
        "Ayrıca öğrencinin final notu 50’nin altında ise direkt FF ile kalacaktır."
      ]
    },
    {
      "cell_type": "code",
      "execution_count": 53,
      "metadata": {},
      "outputs": [
        {
          "name": "stdout",
          "output_type": "stream",
          "text": [
            "Ortalamanız:  61.6 Harf notunuz: CC\n"
          ]
        }
      ],
      "source": [
        "vize = float(input(\"Vize notunuzu giriniz: \"))\n",
        "final = float(input(\"Final notunuzu giriniz: \"))\n",
        "\n",
        "if final < 50:\n",
        "    print(\"Final notunuz 50'den küçük. Harf notunuz: FF\")\n",
        "else:\n",
        "    ortalama = (vize * 0.4) + (final * 0.6)\n",
        "    if ortalama >= 85:\n",
        "        print(\"Ortalamanız: \", ortalama, \"Harf notunuz: AA\")\n",
        "    elif ortalama >= 75:\n",
        "        print(\"Ortalamanız: \", ortalama, \"Harf notunuz: BA\")\n",
        "    elif ortalama >= 70:\n",
        "        print(\"Ortalamanız: \", ortalama, \"Harf notunuz: BB\")\n",
        "    elif ortalama >= 65:\n",
        "        print(\"Ortalamanız: \", ortalama, \"Harf notunuz: CB\")\n",
        "    elif ortalama >= 60:\n",
        "        print(\"Ortalamanız: \", ortalama, \"Harf notunuz: CC\")\n",
        "    elif ortalama >= 55:\n",
        "        print(\"Ortalamanız: \", ortalama, \"Harf notunuz: DC\")\n",
        "    elif ortalama >= 50:\n",
        "        print(\"Ortalamanız: \", ortalama, \"Harf notunuz: DD\")\n",
        "    else:\n",
        "        print(\"Ortalamanız: \", ortalama, \"Harf notunuz: FF\")"
      ]
    },
    {
      "cell_type": "markdown",
      "metadata": {
        "id": "tAoRYCTC_Te8"
      },
      "source": [
        "# Problem 3\n",
        "İki YetGenli Zirve'de karşılaşıyorlar. Birbirlerini tanımak için sorular soruyorlar. Birbirlerine yaşlarını soruyorlar. Akıllarına bir Python programı yazıp, yaşlarını ve isimlerini giriyorlar. Büyük olanın yaşını ekrana yazdıran programı yazıyorlar. Sende bu iki YetGenli'ye destek olmak ister misin?\n",
        "\n",
        "```\n",
        "Birinci YetGenlinin ismi: Ahmet\n",
        "Birinci YetGenlinin yaşı : 20\n",
        "İkinci YetGenlinin ismi: Mehmet\n",
        "İkinci YetGenlinin yaşı : 25\n",
        "Mehmet'in yaşı daha büyük ve yaşı 25'tir.\n",
        "```"
      ]
    },
    {
      "cell_type": "code",
      "execution_count": null,
      "metadata": {
        "id": "bPjE8W0i_Te8"
      },
      "outputs": [
        {
          "name": "stdout",
          "output_type": "stream",
          "text": [
            "mehmet yaşı daha büyüktür ve yaşı:25\n"
          ]
        }
      ],
      "source": [
        "isim1 = input(\"İlk ismi giriniz: \")\n",
        "yas1 = int(input(\"İlk kişinin yaşını giriniz: \"))\n",
        "isim2 = input(\"İkinci ismi giriniz: \")\n",
        "yas2 = int(input(\"İkinci kişinin yaşını giriniz: \"))\n",
        "if yas1 > yas2:\n",
        "    print(f\"{isim1} yaşı daha büyüktür ve yaşı: {yas1}\")\n",
        "else:\n",
        "    print(f\"{isim2} yaşı daha büyüktür ve yaşı: {yas2}\")\n"
      ]
    },
    {
      "cell_type": "markdown",
      "metadata": {
        "id": "zBVv8Tyg_Te9"
      },
      "source": [
        "# Problem 4\n",
        "Pandemi döneminde AVM'lerde ateş ölçümü yapılıyor. AVM'ye giren kişinin ateş ölçümü 37.5 derecenin altında ise girişe izin veriliyor. 37.5 derecenin üstünde ise girişe izin verilmiyor. AVM'ye girişe izin verilip verilmediğini ekrana yazdıran bir program yazın.\n",
        "\n",
        "Program sonunda şöyle bir çıktı elde etmelisiniz:\n",
        "\n",
        "```\n",
        "Ateşiniz 37.5 derece. AVM'ye girebilirsin! Maske takmayı unutma!\n",
        "Ateşiniz 37.6 derece. AVM'ye giremezsin! Hemen evine dön!\n",
        "```"
      ]
    },
    {
      "cell_type": "code",
      "execution_count": 36,
      "metadata": {
        "id": "TSAXs8et_Te9"
      },
      "outputs": [
        {
          "name": "stdout",
          "output_type": "stream",
          "text": [
            "Ateşiniz: 38.0 derece. AVM'ye giremezsiniz! Hemen evinize dönünüz!\n"
          ]
        }
      ],
      "source": [
        "ates = float(input(\"Ateş ölçümünüzü giriniz: \"))\n",
        "if ates <= 37.5:\n",
        "    print(f\"Ateşiniz: {ates} derece. AVM'ye girebilirsiniz! Maske takmayı unutmayınız!\")\n",
        "else:\n",
        "    print(f\"Ateşiniz: {ates} derece. AVM'ye giremezsiniz! Hemen evinize dönünüz!\")\n",
        "   "
      ]
    },
    {
      "cell_type": "markdown",
      "metadata": {
        "id": "6AEkZrDt_Te9"
      },
      "source": [
        "# Problem 5\n",
        "YetGen bir spor kulübüyle sponsorluk anlaşması yapıyor. Kulüp, sponsorluk anlaşmasına göre her YetGen liderinin beden kitle indeksini hesaplamak istiyor. Spor kulübü, beden kitle indeksini hesaplamak için YetGen Jump Python liderlerinden Berkcan ve Ahmet'i arıyor. Berkcan ve Ahmet, kulübe yardımcı olmak için bir Python programı yazıyorlar. Sende bu iki YetGen liderine destek olmak ister misin?\n",
        "\n",
        "Kullanıcıdan alınan boy ve kilo değerlerine göre beden kitle indeksini hesaplayın ve şu kurallara göre ekrana şu yazıları yazdırın.\n",
        "\n",
        "\n",
        "Beden Kitle İndeksi, kişinin ağırlığının (kg olarak) boyunun karesine (m olarak) bölünmesiyle hesaplanır.\n",
        "\n",
        "\n",
        "```\n",
        " BKİ 18.5'un altındaysa -------> Zayıf\n",
        "\n",
        " BKİ 18.5 ile 25 arasındaysa ------> Normal\n",
        "\n",
        " BKİ 25 ile 30 arasındaysa --------> Fazla Kilolu\n",
        "\n",
        " BKİ 30'un üstündeyse -------------> Obez\n",
        "```\n",
        "\n"
      ]
    },
    {
      "cell_type": "code",
      "execution_count": null,
      "metadata": {
        "id": "t-XPI_u0_Te-"
      },
      "outputs": [
        {
          "name": "stdout",
          "output_type": "stream",
          "text": [
            "Beden kitle indeksiniz: 19.591836734693878. Normal\n"
          ]
        }
      ],
      "source": [
        "boy = float(input(\"Boyunuzu giriniz (cm): \")) / 100  \n",
        "kilo = float(input(\"Kilonuzu giriniz (kg): \"))\n",
        "bki = kilo / boy ** 2\n",
        "if bki < 18.5:\n",
        "    print(f\"Beden kitle indeksiniz: {bki}. Zayıf\")\n",
        "elif bki < 25:\n",
        "    print(f\"Beden kitle indeksiniz: {bki}. Normal\")\n",
        "elif bki < 30:\n",
        "    print(f\"Beden kitle indeksiniz: {bki}. Fazla kilolu\")\n",
        "else:\n",
        "    print(f\"Beden kitle indeksiniz: {bki}. Obez\")"
      ]
    },
    {
      "cell_type": "markdown",
      "metadata": {
        "id": "oFsvQyaO_Te-"
      },
      "source": [
        "# Problem 6\n",
        "Kullanıcıdan isim, yaş ve eğitim bilgilerini isteyip ehliyet alabilme  durumunu kontrol ediniz. \n",
        "\n",
        "Ehliyet alma koşulu en az 18 yaşında ve eğitim durumu lise ya da üniversite olmalıdır. "
      ]
    },
    {
      "cell_type": "code",
      "execution_count": null,
      "metadata": {
        "id": "Tu2mcgco_Te-"
      },
      "outputs": [
        {
          "name": "stdout",
          "output_type": "stream",
          "text": [
            "ahmet 18 yaşından küçük veya eğitim durumu yetersiz olduğu için ehliyet alamaz.\n"
          ]
        }
      ],
      "source": [
        "isim = input(\"Adınızı giriniz: \")\n",
        "yas = int(input(\"Yaşınızı giriniz: \"))\n",
        "egitim = input(\"Eğitim durumunuzu giriniz (lise, üniversite): \")\n",
        "if yas >= 18 and egitim == \"lise\" or egitim == \"üniversite\":\n",
        "    print(f\"{isim} ehliyet alabilir.\")\n",
        "else:\n",
        "    print(\"18 yaşından küçük veya eğitim durumu yetersiz olduğu için ehliyet alamasınız.\")"
      ]
    },
    {
      "cell_type": "markdown",
      "metadata": {
        "id": "eUkxVSAE_Te_"
      },
      "source": [
        "# Problem 7\n",
        "Bir yılın artık yıl olup olmadığını kontrol etmek için bir program yazın. \n",
        "Artık yıl kuralı:\n",
        "\n",
        "a) Eğer yılın son iki basamağı (00) ile bitmiyor ve yalnızca 4'e tam bölünüyorsa artık yıldır. Ya da, \n",
        "\n",
        "b) Eğer yıl 400'e tam bölünüyorsa artık yıldır.\n",
        "\n",
        "**Örneğin**\n",
        "```\n",
        "2017 artık yıl değildir.\n",
        "1900 artık yıl değildir\n",
        "2012 artık yıldır.\n",
        "2000 artık yıldır.\n",
        "```"
      ]
    },
    {
      "cell_type": "code",
      "execution_count": 75,
      "metadata": {},
      "outputs": [
        {
          "name": "stdout",
          "output_type": "stream",
          "text": [
            "2012 bir artık yıldır.\n"
          ]
        }
      ],
      "source": [
        "yıl = int(input(\"Yıl giriniz: \"))\n",
        "if yıl % 4 == 0 and yıl % 100 != 0 or yıl % 400 == 0:\n",
        "    print(f\"{yıl} bir artık yıldır.\")\n",
        "else:\n",
        "    print(f\"{yıl} bir artık yıl değildir.\")\n"
      ]
    }
  ],
  "metadata": {
    "colab": {
      "provenance": []
    },
    "kernelspec": {
      "display_name": "Python 3",
      "language": "python",
      "name": "python3"
    },
    "language_info": {
      "codemirror_mode": {
        "name": "ipython",
        "version": 3
      },
      "file_extension": ".py",
      "mimetype": "text/x-python",
      "name": "python",
      "nbconvert_exporter": "python",
      "pygments_lexer": "ipython3",
      "version": "3.13.2"
    },
    "orig_nbformat": 4
  },
  "nbformat": 4,
  "nbformat_minor": 0
}
